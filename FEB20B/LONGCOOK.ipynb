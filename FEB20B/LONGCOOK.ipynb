{
 "cells": [
  {
   "cell_type": "code",
   "execution_count": 1,
   "metadata": {},
   "outputs": [],
   "source": [
    "testx = [5, 1, 5, 5, 1, 5, 6, 5, 1, 5, 5, 1, 5, 6, 5, 1, 5, 5, 1, 5, 6, 5, 1, 6, 5, 1, 5, 5, 1, 5, 6, 5, 1, 5, 5, 1, 5, 6, 5, 1, 5, 5, 1, 5, 6, 5, 1, 5, 1, 5, 1, 5, 5, 1, 5, 6, 5, 1, 5, 5, 1, 5, 6, 5, 1, 5, 5, 1, 5, 6, 5, 1, 5, 6, 1, 5, 5, 1, 5, 6, 5, 1, 5, 5, 1, 5, 6, 5, 1, 5, 5, 1, 5, 6, 5, 1, 5, 5, 1, 5, 6]\n",
    "# [3,6] + testx*x"
   ]
  },
  {
   "cell_type": "code",
   "execution_count": 30,
   "metadata": {},
   "outputs": [],
   "source": [
    "def find_idx( num ) :\n",
    "    # this is that place where first considerable year after given point lies\n",
    "    x = 0 \n",
    "    for i in range(101) :\n",
    "        x += testx[i]\n",
    "        if ( x >= num ) :\n",
    "            return i \n",
    "def find_idx_e( num ) :\n",
    "    # this is that place where first considerable year after given point lies\n",
    "    x = 0 \n",
    "    for i in range(101) :\n",
    "        x += testx[i]\n",
    "        if ( x > num ) :\n",
    "            return i-1\n",
    "        elif ( x == num ) :\n",
    "            return i\n",
    "        \n",
    "def countofcollisions_1( start_y, end_y ) :\n",
    "    start_y -= 9\n",
    "    end_y -= 9\n",
    "    start_ym = start_y % 400\n",
    "    end_ym = end_y % 400\n",
    "    si = find_idx(start_ym)\n",
    "    ei = find_idx_e(end_ym)\n",
    "    if ( end_y-start_y < 400 ) :\n",
    "        return ei - si + 1\n",
    "    ans = 0\n",
    "    ans += 101-si\n",
    "    ans += ei+1\n",
    "    ans += 101*((end_y-start_y)//400)\n",
    "    return ans-101\n",
    "        \n",
    "def main() :\n",
    "    t = int(input()) \n",
    "    while ( t > 0 ) :\n",
    "        t -= 1\n",
    "        start_m = input().split()\n",
    "        start_y = int(start_m[1])\n",
    "        start_m = int(start_m[0])\n",
    "        end_m = input().split()\n",
    "        end_y = int(end_m[1])\n",
    "        end_m = int(end_m[0])\n",
    "\n",
    "        if start_m > 2 :\n",
    "            start_y += 1 \n",
    "        if end_m == 1 :\n",
    "            end_y -= 1 \n",
    "            \n",
    "        if ( start_y < 10 ) :\n",
    "            if ( end_y >= 10 ) :\n",
    "                res = countofcollisions_1(10,end_y)\n",
    "                if ( start_y < 4 ) :\n",
    "                    res += 1\n",
    "                if ( start_y < 10 ) :\n",
    "                    res += 1\n",
    "                print(res)\n",
    "            else :\n",
    "                if ( start_y <= 3 and end_y == 9 ) :\n",
    "                    print(2)\n",
    "                elif ( start_y > 3 and end_y == 9 ) or ( end_y < 9 and start_y <= 3 ) :\n",
    "                    print(1)\n",
    "            \n",
    "        else :  \n",
    "            print(countofcollisions_1(start_y,end_y))"
   ]
  },
  {
   "cell_type": "code",
   "execution_count": 33,
   "metadata": {},
   "outputs": [
    {
     "name": "stdout",
     "output_type": "stream",
     "text": [
      "1\n",
      "1 1\n",
      "12 9999\n",
      "2525\n"
     ]
    }
   ],
   "source": [
    "main()"
   ]
  },
  {
   "cell_type": "code",
   "execution_count": null,
   "metadata": {},
   "outputs": [],
   "source": [
    "4\n",
    "2 2020\n",
    "2 2020\n",
    "10 9\n",
    "2 2020\n",
    "11 13\n",
    "5 205\n",
    "4 500\n",
    "4 6000"
   ]
  }
 ],
 "metadata": {
  "kernelspec": {
   "display_name": "Python 3",
   "language": "python",
   "name": "python3"
  },
  "language_info": {
   "codemirror_mode": {
    "name": "ipython",
    "version": 3
   },
   "file_extension": ".py",
   "mimetype": "text/x-python",
   "name": "python",
   "nbconvert_exporter": "python",
   "pygments_lexer": "ipython3",
   "version": "3.6.5"
  }
 },
 "nbformat": 4,
 "nbformat_minor": 2
}
