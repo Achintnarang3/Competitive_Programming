{
 "cells": [
  {
   "cell_type": "code",
   "execution_count": 3,
   "metadata": {},
   "outputs": [],
   "source": [
    "from datetime import *"
   ]
  },
  {
   "cell_type": "code",
   "execution_count": 20,
   "metadata": {},
   "outputs": [],
   "source": [
    "def isleap(y) :\n",
    "    return ( (y % 4 == 0 and y % 100 != 0) or y % 400 == 0 ) "
   ]
  },
  {
   "cell_type": "code",
   "execution_count": 25,
   "metadata": {},
   "outputs": [
    {
     "ename": "SyntaxError",
     "evalue": "invalid syntax (<ipython-input-25-164449681823>, line 13)",
     "output_type": "error",
     "traceback": [
      "\u001b[0;36m  File \u001b[0;32m\"<ipython-input-25-164449681823>\"\u001b[0;36m, line \u001b[0;32m13\u001b[0m\n\u001b[0;31m    if (!isleap(i)) : # not a leap yar\u001b[0m\n\u001b[0m        ^\u001b[0m\n\u001b[0;31mSyntaxError\u001b[0m\u001b[0;31m:\u001b[0m invalid syntax\n"
     ]
    }
   ],
   "source": [
    "def countofcollisions(a,b) :\n",
    "\n",
    "    ans = 0 \n",
    "    \n",
    "    # 7th feb is friday\n",
    "    for i in range(a,b) :\n",
    "        ndate = date(i,2,7)\n",
    "        if ( ndate.isoweekday() == 5 ) :\n",
    "            ans += 1\n",
    "\n",
    "    # 6th feb is friday\n",
    "    for i in range(a,b) :\n",
    "        if (not isleap(i)) : # not a leap yar\n",
    "            ndate = date(i,2,6)\n",
    "            if ( ndate.isoweekday() == 5 ) :\n",
    "                ans += 1"
   ]
  },
  {
   "cell_type": "code",
   "execution_count": null,
   "metadata": {},
   "outputs": [],
   "source": []
  },
  {
   "cell_type": "code",
   "execution_count": 24,
   "metadata": {},
   "outputs": [
    {
     "data": {
      "text/plain": [
       "True"
      ]
     },
     "execution_count": 24,
     "metadata": {},
     "output_type": "execute_result"
    }
   ],
   "source": [
    "isleap(2016)"
   ]
  },
  {
   "cell_type": "code",
   "execution_count": null,
   "metadata": {},
   "outputs": [],
   "source": []
  }
 ],
 "metadata": {
  "kernelspec": {
   "display_name": "Python 3",
   "language": "python",
   "name": "python3"
  },
  "language_info": {
   "codemirror_mode": {
    "name": "ipython",
    "version": 3
   },
   "file_extension": ".py",
   "mimetype": "text/x-python",
   "name": "python",
   "nbconvert_exporter": "python",
   "pygments_lexer": "ipython3",
   "version": "3.6.5"
  }
 },
 "nbformat": 4,
 "nbformat_minor": 2
}
