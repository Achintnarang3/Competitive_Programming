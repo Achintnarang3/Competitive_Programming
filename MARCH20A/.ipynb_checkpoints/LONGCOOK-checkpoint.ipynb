{
 "cells": [
  {
   "cell_type": "code",
   "execution_count": 1,
   "metadata": {},
   "outputs": [],
   "source": [
    "testx = [5, 1, 5, 5, 1, 5, 6, 5, 1, 5, 5, 1, 5, 6, 5, 1, 5, 5, 1, 5, 6, 5, 1, 6, 5, 1, 5, 5, 1, 5, 6, 5, 1, 5, 5, 1, 5, 6, 5, 1, 5, 5, 1, 5, 6, 5, 1, 5, 1, 5, 1, 5, 5, 1, 5, 6, 5, 1, 5, 5, 1, 5, 6, 5, 1, 5, 5, 1, 5, 6, 5, 1, 5, 6, 1, 5, 5, 1, 5, 6, 5, 1, 5, 5, 1, 5, 6, 5, 1, 5, 5, 1, 5, 6, 5, 1, 5, 5, 1, 5, 6]\n",
    "# [3,6] + testx*x"
   ]
  },
  {
   "cell_type": "code",
   "execution_count": null,
   "metadata": {},
   "outputs": [],
   "source": [
    "def find_idx( num ) :\n",
    "    # this is that place where first considerable year after given point lies\n",
    "    x = 0 \n",
    "    for i in range(101) :\n",
    "        x += testx[i]\n",
    "        if ( x >= num )\n",
    "            return i \n",
    "\n",
    "def countofcollisions_1( start_y, end_y ) :\n",
    "    start_y -= 9\n",
    "    end_y -= 9\n",
    "    start_y %= 400\n",
    "    end_y %= 400\n",
    "    si = find_idx(start_y)\n",
    "    ei = find_idx(end_y)\n",
    "    if ( si < ei ) :\n",
    "        return ei-si+1\n",
    "    elif ( si < ei ) :\n",
    "        \n",
    "def countofcollisions_1( start_y, end_y ) :\n",
    "    start_y -= 9\n",
    "    end_y -= 9\n",
    "    start_y %= 400\n",
    "    end_y %= 400\n",
    "    si = find_idx(start_y)\n",
    "    ei = find_idx(end_y)\n",
    "    ans = 0\n",
    "    ans += 101-s\n",
    "    ans += e+1\n",
    "    ans += 101*((end_y-starty)//400)\n",
    "    return ans\n",
    "        \n",
    "def main() :\n",
    "    t = int(input()) \n",
    "    while ( t > 0 ) :\n",
    "        t -= 1\n",
    "        start_m = input().split()\n",
    "        start_y = int(start_m[1])\n",
    "        start_m = int(start_m[0])\n",
    "        end_m = input().split()\n",
    "        end_y = int(end_m[1])\n",
    "        end_m = int(end_m[0])\n",
    "\n",
    "        if start_m > 2 :\n",
    "            start_y += 1 \n",
    "        if end_m == 1 :\n",
    "            end_y -= 1 \n",
    "            \n",
    "        if ( start_y < 10 ) :\n",
    "            pass # Deal seprerately\n",
    "        \n",
    "#         elif ( end_y - start_y <= 800 ) :\n",
    "#             print(countofcollisions_2(start_y,end_y))\n",
    "        else :  \n",
    "            print(countofcollisions_1(start_y,end_y))"
   ]
  }
 ],
 "metadata": {
  "kernelspec": {
   "display_name": "Python 3",
   "language": "python",
   "name": "python3"
  },
  "language_info": {
   "codemirror_mode": {
    "name": "ipython",
    "version": 3
   },
   "file_extension": ".py",
   "mimetype": "text/x-python",
   "name": "python",
   "nbconvert_exporter": "python",
   "pygments_lexer": "ipython3",
   "version": "3.6.5"
  }
 },
 "nbformat": 4,
 "nbformat_minor": 2
}
